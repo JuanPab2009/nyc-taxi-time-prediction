{
 "cells": [
  {
   "metadata": {
    "ExecuteTime": {
     "end_time": "2024-09-21T01:32:58.254410Z",
     "start_time": "2024-09-21T01:32:58.138313Z"
    }
   },
   "cell_type": "code",
   "source": [
    "import os\n",
    "import mlflow\n",
    "import mlflow.sklearn\n",
    "from sklearn.ensemble import GradientBoostingRegressor, RandomForestRegressor\n",
    "from sklearn.model_selection import train_test_split\n",
    "from sklearn.metrics import mean_squared_error, root_mean_squared_error\n",
    "import numpy as np\n",
    "import pandas as pd\n",
    "from sklearn.feature_extraction import DictVectorizer\n",
    "from hyperopt import fmin, tpe, hp, STATUS_OK, Trials\n",
    "from hyperopt.pyll import scope\n",
    "from dagshub import get_repo_bucket_client\n"
   ],
   "id": "9224edbfa806b342",
   "outputs": [],
   "execution_count": 13
  },
  {
   "metadata": {
    "ExecuteTime": {
     "end_time": "2024-09-21T01:34:06.056383Z",
     "start_time": "2024-09-21T01:34:05.248990Z"
    }
   },
   "cell_type": "code",
   "source": [
    "# Create the directory if it doesn't exist\n",
    "!mkdir -p ../data\n",
    "\n",
    "# Download files using curl\n",
    "!curl -o ../data/green_tripdata_2024-01.parquet https://d37ci6vzurychx.cloudfront.net/trip-data/green_tripdata_2024-01.parquet\n",
    "!curl -o ../data/green_tripdata_2024-02.parquet https://d37ci6vzurychx.cloudfront.net/trip-data/green_tripdata_2024-02.parquet"
   ],
   "id": "6520603ce1783044",
   "outputs": [
    {
     "name": "stdout",
     "output_type": "stream",
     "text": [
      "  % Total    % Received % Xferd  Average Speed   Time    Time     Time  Current\r\n",
      "                                 Dload  Upload   Total   Spent    Left  Speed\r\n",
      "100 1330k  100 1330k    0     0  5776k      0 --:--:-- --:--:-- --:--:-- 5784k\r\n",
      "  % Total    % Received % Xferd  Average Speed   Time    Time     Time  Current\r\n",
      "                                 Dload  Upload   Total   Spent    Left  Speed\r\n",
      "100 1253k  100 1253k    0     0  6264k      0 --:--:-- --:--:-- --:--:-- 6237k\r\n"
     ]
    }
   ],
   "execution_count": 15
  },
  {
   "metadata": {
    "ExecuteTime": {
     "end_time": "2024-09-21T01:34:21.671140Z",
     "start_time": "2024-09-21T01:34:21.668524Z"
    }
   },
   "cell_type": "code",
   "source": [
    "def read_dataframe(filename):\n",
    "    df = pd.read_parquet(filename)\n",
    "    df['duration'] = df.lpep_dropoff_datetime - df.lpep_pickup_datetime\n",
    "    df.duration = df.duration.apply(lambda td: td.total_seconds() / 60)\n",
    "    df = df[(df.duration >= 1) & (df.duration <= 60)]\n",
    "    categorical = ['PULocationID', 'DOLocationID']\n",
    "    df[categorical] = df[categorical].astype(str)\n",
    "    df['PU_DO'] = df['PULocationID'] + '_' + df['DOLocationID']\n",
    "    return df"
   ],
   "id": "2db33a2071652ef7",
   "outputs": [],
   "execution_count": 16
  },
  {
   "metadata": {
    "ExecuteTime": {
     "end_time": "2024-09-21T01:34:32.320340Z",
     "start_time": "2024-09-21T01:34:31.962990Z"
    }
   },
   "cell_type": "code",
   "source": [
    "df_train = read_dataframe('../data/green_tripdata_2024-01.parquet')\n",
    "df_val = read_dataframe('../data/green_tripdata_2024-02.parquet')\n",
    "df_test = read_dataframe('../data/green_tripdata_2024-03.parquet')\n",
    "\n",
    "categorical = ['PU_DO']\n",
    "numerical = ['trip_distance']\n",
    "target = 'duration'\n"
   ],
   "id": "964b266e059866dc",
   "outputs": [],
   "execution_count": 17
  },
  {
   "metadata": {
    "ExecuteTime": {
     "end_time": "2024-09-21T01:34:59.014524Z",
     "start_time": "2024-09-21T01:34:58.845900Z"
    }
   },
   "cell_type": "code",
   "source": [
    "dv = DictVectorizer()\n",
    "\n",
    "train_dicts = df_train[categorical + numerical].to_dict(orient='records')\n",
    "X_train = dv.fit_transform(train_dicts)\n",
    "y_train = df_train[target].values\n",
    "\n",
    "val_dicts = df_val[categorical + numerical].to_dict(orient='records')\n",
    "X_val = dv.transform(val_dicts)\n",
    "y_val = df_val[target].values\n",
    "\n",
    "test_dicts = df_test[categorical + numerical].to_dict(orient='records')\n",
    "X_test = dv.transform(test_dicts)\n",
    "y_test = df_test[target].values"
   ],
   "id": "7fc04624958ae8ed",
   "outputs": [],
   "execution_count": 18
  },
  {
   "metadata": {
    "ExecuteTime": {
     "end_time": "2024-09-21T01:38:30.548792Z",
     "start_time": "2024-09-21T01:38:29.832442Z"
    }
   },
   "cell_type": "code",
   "source": [
    "import os\n",
    "import mlflow\n",
    "import dagshub\n",
    "from mlflow.tracking import MlflowClient\n",
    "\n",
    "# Configurar DagsHub y MLflow\n",
    "dagshub.init(repo_owner=\"JuanPab2009\", repo_name=\"nys-taxi-time-prediction\", mlflow=True)\n",
    "\n",
    "# Obtener la URI de seguimiento de MLflow\n",
    "mlflow_tracking_uri = mlflow.get_tracking_uri()\n",
    "print(f\"MLflow Tracking URI: {mlflow_tracking_uri}\")\n",
    "\n",
    "# Configurar MLflow para usar la URI de DagsHub\n",
    "mlflow.set_tracking_uri(mlflow_tracking_uri)\n",
    "\n",
    "# Nombre del experimento\n",
    "experiment_name = \"nys-taxi-experiment\"\n",
    "\n",
    "# Crear o obtener el experimento\n",
    "client = MlflowClient()\n",
    "try:\n",
    "    experiment = client.create_experiment(experiment_name)\n",
    "except mlflow.exceptions.MlflowException:\n",
    "    experiment = client.get_experiment_by_name(experiment_name)\n",
    "\n",
    "if experiment:\n",
    "    print(f\"Experiment ID: {experiment.experiment_id}\")\n",
    "    print(f\"Artifact Location: {experiment.artifact_location}\")\n",
    "    \n",
    "    # Configurar el experimento activo\n",
    "    mlflow.set_experiment(experiment_name)\n",
    "else:\n",
    "    print(\"Failed to create or retrieve the experiment.\")"
   ],
   "id": "35ba661c8c80222c",
   "outputs": [
    {
     "data": {
      "text/plain": [
       "Initialized MLflow to track repo \u001B[32m\"JuanPab2009/nys-taxi-time-prediction\"\u001B[0m\n"
      ],
      "text/html": [
       "<pre style=\"white-space:pre;overflow-x:auto;line-height:normal;font-family:Menlo,'DejaVu Sans Mono',consolas,'Courier New',monospace\">Initialized MLflow to track repo <span style=\"color: #008000; text-decoration-color: #008000\">\"JuanPab2009/nys-taxi-time-prediction\"</span>\n",
       "</pre>\n"
      ]
     },
     "metadata": {},
     "output_type": "display_data"
    },
    {
     "data": {
      "text/plain": [
       "Repository JuanPab2009/nys-taxi-time-prediction initialized!\n"
      ],
      "text/html": [
       "<pre style=\"white-space:pre;overflow-x:auto;line-height:normal;font-family:Menlo,'DejaVu Sans Mono',consolas,'Courier New',monospace\">Repository JuanPab2009/nys-taxi-time-prediction initialized!\n",
       "</pre>\n"
      ]
     },
     "metadata": {},
     "output_type": "display_data"
    },
    {
     "name": "stdout",
     "output_type": "stream",
     "text": [
      "MLflow Tracking URI: https://dagshub.com/JuanPab2009/nys-taxi-time-prediction.mlflow\n",
      "Experiment ID: 0\n",
      "Artifact Location: mlflow-artifacts:/263051c210234e5a9f3b7186f93060c2\n"
     ]
    }
   ],
   "execution_count": 22
  },
  {
   "metadata": {
    "ExecuteTime": {
     "end_time": "2024-09-21T01:39:01.980198Z",
     "start_time": "2024-09-21T01:39:01.977632Z"
    }
   },
   "cell_type": "code",
   "source": [
    "# Función para ejecutar experimentos\n",
    "def objective(params, model_class, X_train, y_train, X_val, y_val):\n",
    "    with mlflow.start_run(nested=True):\n",
    "        model = model_class(**params)\n",
    "        model.fit(X_train, y_train)\n",
    "        y_pred = model.predict(X_val)\n",
    "        rmse = root_mean_squared_error(y_val, y_pred)\n",
    "        mlflow.log_params(params)\n",
    "        mlflow.log_metric(\"rmse\", rmse)\n",
    "        return {'loss': rmse, 'status': STATUS_OK}"
   ],
   "id": "4394755693690a80",
   "outputs": [],
   "execution_count": 23
  },
  {
   "metadata": {
    "ExecuteTime": {
     "end_time": "2024-09-21T01:39:08.729963Z",
     "start_time": "2024-09-21T01:39:08.726926Z"
    }
   },
   "cell_type": "code",
   "source": [
    "# Espacios de búsqueda para hiperparámetros\n",
    "gb_space = {\n",
    "    'n_estimators': scope.int(hp.quniform('n_estimators', 100, 500, 50)),\n",
    "    'learning_rate': hp.loguniform('learning_rate', np.log(0.01), np.log(0.2)),\n",
    "    'max_depth': scope.int(hp.quniform('max_depth', 3, 10, 1))\n",
    "}\n",
    "\n",
    "rf_space = {\n",
    "    'n_estimators': scope.int(hp.quniform('n_estimators', 100, 500, 50)),\n",
    "    'max_depth': scope.int(hp.quniform('max_depth', 3, 20, 1)),\n",
    "    'min_samples_split': scope.int(hp.quniform('min_samples_split', 2, 10, 1))\n",
    "}\n"
   ],
   "id": "b3816559d454a7a6",
   "outputs": [],
   "execution_count": 24
  },
  {
   "metadata": {
    "ExecuteTime": {
     "end_time": "2024-09-21T02:40:22.583115Z",
     "start_time": "2024-09-21T02:33:06.489813Z"
    }
   },
   "cell_type": "code",
   "source": [
    "# Experimentos\n",
    "with mlflow.start_run(run_name=\"Parent Experiment\"):\n",
    "    # Gradient Boost\n",
    "    gb_trials = Trials()\n",
    "    best_gb = fmin(\n",
    "        fn=lambda params: objective(params, GradientBoostingRegressor, X_train, y_train, X_val, y_val),\n",
    "        space=gb_space,\n",
    "        algo=tpe.suggest,\n",
    "        max_evals=20,\n",
    "        trials=gb_trials\n",
    "    )\n",
    "    \n",
    "    # Random Forest\n",
    "    rf_trials = Trials()\n",
    "    best_rf = fmin(\n",
    "        fn=lambda params: objective(params, RandomForestRegressor, X_train, y_train, X_val, y_val),\n",
    "        space=rf_space,\n",
    "        algo=tpe.suggest,\n",
    "        max_evals=20,\n",
    "        trials=rf_trials\n",
    "    )\n",
    "\n",
    "    # Seleccionar el mejor modelo\n",
    "    gb_rmse = min(trial['result']['loss'] for trial in gb_trials.trials)\n",
    "    rf_rmse = min(trial['result']['loss'] for trial in rf_trials.trials)\n",
    "\n",
    "    if gb_rmse < rf_rmse:\n",
    "        best_model = GradientBoostingRegressor(**best_gb)\n",
    "        best_model_name = \"GradientBoost\"\n",
    "    else:\n",
    "        best_model = RandomForestRegressor(**best_rf)\n",
    "        best_model_name = \"RandomForest\"\n",
    "\n",
    "    # Entrenar el mejor modelo con todos los datos\n",
    "    best_model.fit(X_train, y_train)\n",
    "\n",
    "    # Registrar el mejor modelo\n",
    "    mlflow.sklearn.log_model(best_model, \"nyc-taxi-model\")\n",
    "    \n",
    "    # Asignar el alias 'challenger'\n",
    "    client = mlflow.tracking.MlflowClient()\n",
    "    model_version = client.create_model_version(\"nyc-taxi-model\", f\"runs:/{mlflow.active_run().info.run_id}/nyc-taxi-model\")\n",
    "    client.set_registered_model_alias(\"nyc-taxi-model\", \"challenger\", model_version.version)"
   ],
   "id": "cf2ac2aa40ce5d8d",
   "outputs": [
    {
     "name": "stdout",
     "output_type": "stream",
     "text": [
      "  0%|          | 0/20 [00:00<?, ?trial/s, best loss=?]"
     ]
    },
    {
     "name": "stderr",
     "output_type": "stream",
     "text": [
      "2024/09/20 20:33:20 INFO mlflow.tracking._tracking_service.client: 🏃 View run clean-grub-687 at: https://dagshub.com/JuanPab2009/nys-taxi-time-prediction.mlflow/#/experiments/0/runs/75ebdc5382ac4143b0e88c3e7e46f749.\n",
      "\n",
      "2024/09/20 20:33:20 INFO mlflow.tracking._tracking_service.client: 🧪 View experiment at: https://dagshub.com/JuanPab2009/nys-taxi-time-prediction.mlflow/#/experiments/0.\n",
      "\n"
     ]
    },
    {
     "name": "stdout",
     "output_type": "stream",
     "text": [
      "  5%|▌         | 1/20 [00:14<04:33, 14.38s/trial, best loss: 5.352838042950961]"
     ]
    },
    {
     "name": "stderr",
     "output_type": "stream",
     "text": [
      "2024/09/20 20:33:26 INFO mlflow.tracking._tracking_service.client: 🏃 View run carefree-mare-111 at: https://dagshub.com/JuanPab2009/nys-taxi-time-prediction.mlflow/#/experiments/0/runs/a2d546f503804d6da1a5d8d2f7f08c0c.\n",
      "\n",
      "2024/09/20 20:33:26 INFO mlflow.tracking._tracking_service.client: 🧪 View experiment at: https://dagshub.com/JuanPab2009/nys-taxi-time-prediction.mlflow/#/experiments/0.\n",
      "\n"
     ]
    },
    {
     "name": "stdout",
     "output_type": "stream",
     "text": [
      " 10%|█         | 2/20 [00:19<02:45,  9.22s/trial, best loss: 5.352838042950961]"
     ]
    },
    {
     "name": "stderr",
     "output_type": "stream",
     "text": [
      "2024/09/20 20:33:30 INFO mlflow.tracking._tracking_service.client: 🏃 View run handsome-sow-988 at: https://dagshub.com/JuanPab2009/nys-taxi-time-prediction.mlflow/#/experiments/0/runs/068980cedabc4ce390467f74c24f805e.\n",
      "\n",
      "2024/09/20 20:33:30 INFO mlflow.tracking._tracking_service.client: 🧪 View experiment at: https://dagshub.com/JuanPab2009/nys-taxi-time-prediction.mlflow/#/experiments/0.\n",
      "\n"
     ]
    },
    {
     "name": "stdout",
     "output_type": "stream",
     "text": [
      " 15%|█▌        | 3/20 [00:23<01:54,  6.72s/trial, best loss: 5.352838042950961]"
     ]
    },
    {
     "name": "stderr",
     "output_type": "stream",
     "text": [
      "2024/09/20 20:33:34 INFO mlflow.tracking._tracking_service.client: 🏃 View run clean-midge-922 at: https://dagshub.com/JuanPab2009/nys-taxi-time-prediction.mlflow/#/experiments/0/runs/0b25d4d187fb4704afe552149e4f4a43.\n",
      "\n",
      "2024/09/20 20:33:34 INFO mlflow.tracking._tracking_service.client: 🧪 View experiment at: https://dagshub.com/JuanPab2009/nys-taxi-time-prediction.mlflow/#/experiments/0.\n",
      "\n"
     ]
    },
    {
     "name": "stdout",
     "output_type": "stream",
     "text": [
      " 20%|██        | 4/20 [00:28<01:33,  5.82s/trial, best loss: 5.352838042950961]"
     ]
    },
    {
     "name": "stderr",
     "output_type": "stream",
     "text": [
      "2024/09/20 20:33:45 INFO mlflow.tracking._tracking_service.client: 🏃 View run mercurial-eel-264 at: https://dagshub.com/JuanPab2009/nys-taxi-time-prediction.mlflow/#/experiments/0/runs/76a2923137464050b2d56d9e96f37429.\n",
      "\n",
      "2024/09/20 20:33:45 INFO mlflow.tracking._tracking_service.client: 🧪 View experiment at: https://dagshub.com/JuanPab2009/nys-taxi-time-prediction.mlflow/#/experiments/0.\n",
      "\n"
     ]
    },
    {
     "name": "stdout",
     "output_type": "stream",
     "text": [
      " 25%|██▌       | 5/20 [00:38<01:53,  7.57s/trial, best loss: 5.351624742801585]"
     ]
    },
    {
     "name": "stderr",
     "output_type": "stream",
     "text": [
      "2024/09/20 20:33:55 INFO mlflow.tracking._tracking_service.client: 🏃 View run orderly-snail-155 at: https://dagshub.com/JuanPab2009/nys-taxi-time-prediction.mlflow/#/experiments/0/runs/b794e359e9004fbdb8d621af1d2d5f3b.\n",
      "\n",
      "2024/09/20 20:33:55 INFO mlflow.tracking._tracking_service.client: 🧪 View experiment at: https://dagshub.com/JuanPab2009/nys-taxi-time-prediction.mlflow/#/experiments/0.\n",
      "\n"
     ]
    },
    {
     "name": "stdout",
     "output_type": "stream",
     "text": [
      " 30%|███       | 6/20 [00:48<01:56,  8.31s/trial, best loss: 5.351624742801585]"
     ]
    },
    {
     "name": "stderr",
     "output_type": "stream",
     "text": [
      "2024/09/20 20:34:00 INFO mlflow.tracking._tracking_service.client: 🏃 View run bright-snipe-221 at: https://dagshub.com/JuanPab2009/nys-taxi-time-prediction.mlflow/#/experiments/0/runs/117b284b655e4334bb8ae8ec4197d6c9.\n",
      "\n",
      "2024/09/20 20:34:00 INFO mlflow.tracking._tracking_service.client: 🧪 View experiment at: https://dagshub.com/JuanPab2009/nys-taxi-time-prediction.mlflow/#/experiments/0.\n",
      "\n"
     ]
    },
    {
     "name": "stdout",
     "output_type": "stream",
     "text": [
      " 35%|███▌      | 7/20 [00:54<01:35,  7.37s/trial, best loss: 5.351624742801585]"
     ]
    },
    {
     "name": "stderr",
     "output_type": "stream",
     "text": [
      "2024/09/20 20:34:07 INFO mlflow.tracking._tracking_service.client: 🏃 View run rogue-dog-986 at: https://dagshub.com/JuanPab2009/nys-taxi-time-prediction.mlflow/#/experiments/0/runs/5cc2c3698c1a40c5807afec9dd59b72e.\n",
      "\n",
      "2024/09/20 20:34:07 INFO mlflow.tracking._tracking_service.client: 🧪 View experiment at: https://dagshub.com/JuanPab2009/nys-taxi-time-prediction.mlflow/#/experiments/0.\n",
      "\n"
     ]
    },
    {
     "name": "stdout",
     "output_type": "stream",
     "text": [
      " 40%|████      | 8/20 [01:01<01:28,  7.40s/trial, best loss: 5.351624742801585]"
     ]
    },
    {
     "name": "stderr",
     "output_type": "stream",
     "text": [
      "2024/09/20 20:34:10 INFO mlflow.tracking._tracking_service.client: 🏃 View run useful-hen-398 at: https://dagshub.com/JuanPab2009/nys-taxi-time-prediction.mlflow/#/experiments/0/runs/c3b7f2c872e14167892ed4920843e958.\n",
      "\n",
      "2024/09/20 20:34:10 INFO mlflow.tracking._tracking_service.client: 🧪 View experiment at: https://dagshub.com/JuanPab2009/nys-taxi-time-prediction.mlflow/#/experiments/0.\n",
      "\n"
     ]
    },
    {
     "name": "stdout",
     "output_type": "stream",
     "text": [
      " 45%|████▌     | 9/20 [01:04<01:06,  6.00s/trial, best loss: 5.351624742801585]"
     ]
    },
    {
     "name": "stderr",
     "output_type": "stream",
     "text": [
      "2024/09/20 20:34:15 INFO mlflow.tracking._tracking_service.client: 🏃 View run whimsical-swan-748 at: https://dagshub.com/JuanPab2009/nys-taxi-time-prediction.mlflow/#/experiments/0/runs/8514d11606f24e158df63bd136142946.\n",
      "\n",
      "2024/09/20 20:34:15 INFO mlflow.tracking._tracking_service.client: 🧪 View experiment at: https://dagshub.com/JuanPab2009/nys-taxi-time-prediction.mlflow/#/experiments/0.\n",
      "\n"
     ]
    },
    {
     "name": "stdout",
     "output_type": "stream",
     "text": [
      " 50%|█████     | 10/20 [01:09<00:56,  5.67s/trial, best loss: 5.351624742801585]"
     ]
    },
    {
     "name": "stderr",
     "output_type": "stream",
     "text": [
      "2024/09/20 20:34:21 INFO mlflow.tracking._tracking_service.client: 🏃 View run upbeat-tern-324 at: https://dagshub.com/JuanPab2009/nys-taxi-time-prediction.mlflow/#/experiments/0/runs/c387bb27750a41f297136937169d486d.\n",
      "\n",
      "2024/09/20 20:34:21 INFO mlflow.tracking._tracking_service.client: 🧪 View experiment at: https://dagshub.com/JuanPab2009/nys-taxi-time-prediction.mlflow/#/experiments/0.\n",
      "\n"
     ]
    },
    {
     "name": "stdout",
     "output_type": "stream",
     "text": [
      " 55%|█████▌    | 11/20 [01:14<00:50,  5.66s/trial, best loss: 5.343211886046483]"
     ]
    },
    {
     "name": "stderr",
     "output_type": "stream",
     "text": [
      "2024/09/20 20:34:27 INFO mlflow.tracking._tracking_service.client: 🏃 View run shivering-ant-326 at: https://dagshub.com/JuanPab2009/nys-taxi-time-prediction.mlflow/#/experiments/0/runs/627797df7d59407797510d300bcb9353.\n",
      "\n",
      "2024/09/20 20:34:27 INFO mlflow.tracking._tracking_service.client: 🧪 View experiment at: https://dagshub.com/JuanPab2009/nys-taxi-time-prediction.mlflow/#/experiments/0.\n",
      "\n"
     ]
    },
    {
     "name": "stdout",
     "output_type": "stream",
     "text": [
      " 60%|██████    | 12/20 [01:20<00:45,  5.65s/trial, best loss: 5.343211886046483]"
     ]
    },
    {
     "name": "stderr",
     "output_type": "stream",
     "text": [
      "2024/09/20 20:34:42 INFO mlflow.tracking._tracking_service.client: 🏃 View run righteous-skink-238 at: https://dagshub.com/JuanPab2009/nys-taxi-time-prediction.mlflow/#/experiments/0/runs/db3d45885fa4486b95b5f97b2fa789a9.\n",
      "\n",
      "2024/09/20 20:34:42 INFO mlflow.tracking._tracking_service.client: 🧪 View experiment at: https://dagshub.com/JuanPab2009/nys-taxi-time-prediction.mlflow/#/experiments/0.\n",
      "\n"
     ]
    },
    {
     "name": "stdout",
     "output_type": "stream",
     "text": [
      " 65%|██████▌   | 13/20 [01:35<00:59,  8.51s/trial, best loss: 5.331316718839417]"
     ]
    },
    {
     "name": "stderr",
     "output_type": "stream",
     "text": [
      "2024/09/20 20:34:50 INFO mlflow.tracking._tracking_service.client: 🏃 View run spiffy-bat-590 at: https://dagshub.com/JuanPab2009/nys-taxi-time-prediction.mlflow/#/experiments/0/runs/a5e1579ede95487ea1041cb266274167.\n",
      "\n",
      "2024/09/20 20:34:50 INFO mlflow.tracking._tracking_service.client: 🧪 View experiment at: https://dagshub.com/JuanPab2009/nys-taxi-time-prediction.mlflow/#/experiments/0.\n",
      "\n"
     ]
    },
    {
     "name": "stdout",
     "output_type": "stream",
     "text": [
      " 70%|███████   | 14/20 [01:44<00:51,  8.59s/trial, best loss: 5.331316718839417]"
     ]
    },
    {
     "name": "stderr",
     "output_type": "stream",
     "text": [
      "2024/09/20 20:34:55 INFO mlflow.tracking._tracking_service.client: 🏃 View run lyrical-fawn-940 at: https://dagshub.com/JuanPab2009/nys-taxi-time-prediction.mlflow/#/experiments/0/runs/aaad3313c0ca4b418bc9b856bf965ba9.\n",
      "\n",
      "2024/09/20 20:34:55 INFO mlflow.tracking._tracking_service.client: 🧪 View experiment at: https://dagshub.com/JuanPab2009/nys-taxi-time-prediction.mlflow/#/experiments/0.\n",
      "\n"
     ]
    },
    {
     "name": "stdout",
     "output_type": "stream",
     "text": [
      " 75%|███████▌  | 15/20 [01:48<00:36,  7.36s/trial, best loss: 5.331316718839417]"
     ]
    },
    {
     "name": "stderr",
     "output_type": "stream",
     "text": [
      "2024/09/20 20:35:02 INFO mlflow.tracking._tracking_service.client: 🏃 View run dapper-ram-840 at: https://dagshub.com/JuanPab2009/nys-taxi-time-prediction.mlflow/#/experiments/0/runs/4c76fee2c1ae434a9ff719b7dbd6cbf1.\n",
      "\n",
      "2024/09/20 20:35:02 INFO mlflow.tracking._tracking_service.client: 🧪 View experiment at: https://dagshub.com/JuanPab2009/nys-taxi-time-prediction.mlflow/#/experiments/0.\n",
      "\n"
     ]
    },
    {
     "name": "stdout",
     "output_type": "stream",
     "text": [
      " 80%|████████  | 16/20 [01:55<00:28,  7.17s/trial, best loss: 5.331316718839417]"
     ]
    },
    {
     "name": "stderr",
     "output_type": "stream",
     "text": [
      "2024/09/20 20:35:10 INFO mlflow.tracking._tracking_service.client: 🏃 View run adorable-worm-993 at: https://dagshub.com/JuanPab2009/nys-taxi-time-prediction.mlflow/#/experiments/0/runs/2b7c20d55c744585ac59ce3a82fc6a67.\n",
      "\n",
      "2024/09/20 20:35:10 INFO mlflow.tracking._tracking_service.client: 🧪 View experiment at: https://dagshub.com/JuanPab2009/nys-taxi-time-prediction.mlflow/#/experiments/0.\n",
      "\n"
     ]
    },
    {
     "name": "stdout",
     "output_type": "stream",
     "text": [
      " 85%|████████▌ | 17/20 [02:03<00:22,  7.38s/trial, best loss: 5.331316718839417]"
     ]
    },
    {
     "name": "stderr",
     "output_type": "stream",
     "text": [
      "2024/09/20 20:35:24 INFO mlflow.tracking._tracking_service.client: 🏃 View run painted-koi-155 at: https://dagshub.com/JuanPab2009/nys-taxi-time-prediction.mlflow/#/experiments/0/runs/87eec46a1ad94b8d8c9b6ea05fb0da45.\n",
      "\n",
      "2024/09/20 20:35:24 INFO mlflow.tracking._tracking_service.client: 🧪 View experiment at: https://dagshub.com/JuanPab2009/nys-taxi-time-prediction.mlflow/#/experiments/0.\n",
      "\n"
     ]
    },
    {
     "name": "stdout",
     "output_type": "stream",
     "text": [
      " 90%|█████████ | 18/20 [02:17<00:18,  9.43s/trial, best loss: 5.331316718839417]"
     ]
    },
    {
     "name": "stderr",
     "output_type": "stream",
     "text": [
      "2024/09/20 20:35:30 INFO mlflow.tracking._tracking_service.client: 🏃 View run abundant-panda-212 at: https://dagshub.com/JuanPab2009/nys-taxi-time-prediction.mlflow/#/experiments/0/runs/d88cd77e92b9426c9b0427e2696c79e6.\n",
      "\n",
      "2024/09/20 20:35:30 INFO mlflow.tracking._tracking_service.client: 🧪 View experiment at: https://dagshub.com/JuanPab2009/nys-taxi-time-prediction.mlflow/#/experiments/0.\n",
      "\n"
     ]
    },
    {
     "name": "stdout",
     "output_type": "stream",
     "text": [
      " 95%|█████████▌| 19/20 [02:24<00:08,  8.58s/trial, best loss: 5.331316718839417]"
     ]
    },
    {
     "name": "stderr",
     "output_type": "stream",
     "text": [
      "2024/09/20 20:35:35 INFO mlflow.tracking._tracking_service.client: 🏃 View run sassy-stork-544 at: https://dagshub.com/JuanPab2009/nys-taxi-time-prediction.mlflow/#/experiments/0/runs/9f6d80a9d0c547dab403aec265ae0d62.\n",
      "\n",
      "2024/09/20 20:35:35 INFO mlflow.tracking._tracking_service.client: 🧪 View experiment at: https://dagshub.com/JuanPab2009/nys-taxi-time-prediction.mlflow/#/experiments/0.\n",
      "\n"
     ]
    },
    {
     "name": "stdout",
     "output_type": "stream",
     "text": [
      "100%|██████████| 20/20 [02:29<00:00,  7.47s/trial, best loss: 5.331316718839417]\n",
      "  0%|          | 0/20 [00:00<?, ?trial/s, best loss=?]"
     ]
    },
    {
     "name": "stderr",
     "output_type": "stream",
     "text": [
      "2024/09/20 20:35:47 INFO mlflow.tracking._tracking_service.client: 🏃 View run fearless-bass-369 at: https://dagshub.com/JuanPab2009/nys-taxi-time-prediction.mlflow/#/experiments/0/runs/41694da8707142a4bd7f428ed7a630c0.\n",
      "\n",
      "2024/09/20 20:35:47 INFO mlflow.tracking._tracking_service.client: 🧪 View experiment at: https://dagshub.com/JuanPab2009/nys-taxi-time-prediction.mlflow/#/experiments/0.\n",
      "\n"
     ]
    },
    {
     "name": "stdout",
     "output_type": "stream",
     "text": [
      "  5%|▌         | 1/20 [00:11<03:31, 11.11s/trial, best loss: 5.398530509652921]"
     ]
    },
    {
     "name": "stderr",
     "output_type": "stream",
     "text": [
      "2024/09/20 20:35:56 INFO mlflow.tracking._tracking_service.client: 🏃 View run lyrical-loon-304 at: https://dagshub.com/JuanPab2009/nys-taxi-time-prediction.mlflow/#/experiments/0/runs/c304f1c86eda47caad4e205903818f8f.\n",
      "\n",
      "2024/09/20 20:35:56 INFO mlflow.tracking._tracking_service.client: 🧪 View experiment at: https://dagshub.com/JuanPab2009/nys-taxi-time-prediction.mlflow/#/experiments/0.\n",
      "\n"
     ]
    },
    {
     "name": "stdout",
     "output_type": "stream",
     "text": [
      " 10%|█         | 2/20 [00:20<03:03, 10.19s/trial, best loss: 5.398530509652921]"
     ]
    },
    {
     "name": "stderr",
     "output_type": "stream",
     "text": [
      "2024/09/20 20:36:05 INFO mlflow.tracking._tracking_service.client: 🏃 View run polite-ape-161 at: https://dagshub.com/JuanPab2009/nys-taxi-time-prediction.mlflow/#/experiments/0/runs/e74409c05477421a9d3e3acb3166df9f.\n",
      "\n",
      "2024/09/20 20:36:05 INFO mlflow.tracking._tracking_service.client: 🧪 View experiment at: https://dagshub.com/JuanPab2009/nys-taxi-time-prediction.mlflow/#/experiments/0.\n",
      "\n"
     ]
    },
    {
     "name": "stdout",
     "output_type": "stream",
     "text": [
      " 15%|█▌        | 3/20 [00:29<02:40,  9.42s/trial, best loss: 5.398530509652921]"
     ]
    },
    {
     "name": "stderr",
     "output_type": "stream",
     "text": [
      "2024/09/20 20:36:07 INFO mlflow.tracking._tracking_service.client: 🏃 View run stylish-goat-769 at: https://dagshub.com/JuanPab2009/nys-taxi-time-prediction.mlflow/#/experiments/0/runs/d63bd961040249daaa15b5696a846495.\n",
      "\n",
      "2024/09/20 20:36:07 INFO mlflow.tracking._tracking_service.client: 🧪 View experiment at: https://dagshub.com/JuanPab2009/nys-taxi-time-prediction.mlflow/#/experiments/0.\n",
      "\n"
     ]
    },
    {
     "name": "stdout",
     "output_type": "stream",
     "text": [
      " 20%|██        | 4/20 [00:31<01:45,  6.59s/trial, best loss: 5.398530509652921]"
     ]
    },
    {
     "name": "stderr",
     "output_type": "stream",
     "text": [
      "2024/09/20 20:36:39 INFO mlflow.tracking._tracking_service.client: 🏃 View run rare-koi-53 at: https://dagshub.com/JuanPab2009/nys-taxi-time-prediction.mlflow/#/experiments/0/runs/0e5b30dcaace4f53866ba16bbc404aed.\n",
      "\n",
      "2024/09/20 20:36:39 INFO mlflow.tracking._tracking_service.client: 🧪 View experiment at: https://dagshub.com/JuanPab2009/nys-taxi-time-prediction.mlflow/#/experiments/0.\n",
      "\n"
     ]
    },
    {
     "name": "stdout",
     "output_type": "stream",
     "text": [
      " 25%|██▌       | 5/20 [01:03<03:57, 15.85s/trial, best loss: 5.395186124400277]"
     ]
    },
    {
     "name": "stderr",
     "output_type": "stream",
     "text": [
      "2024/09/20 20:36:48 INFO mlflow.tracking._tracking_service.client: 🏃 View run chill-mouse-748 at: https://dagshub.com/JuanPab2009/nys-taxi-time-prediction.mlflow/#/experiments/0/runs/85f50f03a052442db662e920da953bff.\n",
      "\n",
      "2024/09/20 20:36:48 INFO mlflow.tracking._tracking_service.client: 🧪 View experiment at: https://dagshub.com/JuanPab2009/nys-taxi-time-prediction.mlflow/#/experiments/0.\n",
      "\n"
     ]
    },
    {
     "name": "stdout",
     "output_type": "stream",
     "text": [
      " 30%|███       | 6/20 [01:12<03:08, 13.47s/trial, best loss: 5.395186124400277]"
     ]
    },
    {
     "name": "stderr",
     "output_type": "stream",
     "text": [
      "2024/09/20 20:37:01 INFO mlflow.tracking._tracking_service.client: 🏃 View run sedate-slug-913 at: https://dagshub.com/JuanPab2009/nys-taxi-time-prediction.mlflow/#/experiments/0/runs/641be806ee8b45808879a1867eff48d9.\n",
      "\n",
      "2024/09/20 20:37:01 INFO mlflow.tracking._tracking_service.client: 🧪 View experiment at: https://dagshub.com/JuanPab2009/nys-taxi-time-prediction.mlflow/#/experiments/0.\n",
      "\n"
     ]
    },
    {
     "name": "stdout",
     "output_type": "stream",
     "text": [
      " 35%|███▌      | 7/20 [01:25<02:52, 13.23s/trial, best loss: 5.395186124400277]"
     ]
    },
    {
     "name": "stderr",
     "output_type": "stream",
     "text": [
      "2024/09/20 20:37:19 INFO mlflow.tracking._tracking_service.client: 🏃 View run secretive-shrimp-252 at: https://dagshub.com/JuanPab2009/nys-taxi-time-prediction.mlflow/#/experiments/0/runs/716373c8569d4604b37b0bdba122c684.\n",
      "\n",
      "2024/09/20 20:37:19 INFO mlflow.tracking._tracking_service.client: 🧪 View experiment at: https://dagshub.com/JuanPab2009/nys-taxi-time-prediction.mlflow/#/experiments/0.\n",
      "\n"
     ]
    },
    {
     "name": "stdout",
     "output_type": "stream",
     "text": [
      " 40%|████      | 8/20 [01:43<02:58, 14.90s/trial, best loss: 5.395186124400277]"
     ]
    },
    {
     "name": "stderr",
     "output_type": "stream",
     "text": [
      "2024/09/20 20:37:42 INFO mlflow.tracking._tracking_service.client: 🏃 View run adventurous-mink-310 at: https://dagshub.com/JuanPab2009/nys-taxi-time-prediction.mlflow/#/experiments/0/runs/97a0bf38fc0d4489b64a84b134128819.\n",
      "\n",
      "2024/09/20 20:37:42 INFO mlflow.tracking._tracking_service.client: 🧪 View experiment at: https://dagshub.com/JuanPab2009/nys-taxi-time-prediction.mlflow/#/experiments/0.\n",
      "\n"
     ]
    },
    {
     "name": "stdout",
     "output_type": "stream",
     "text": [
      " 45%|████▌     | 9/20 [02:06<03:10, 17.29s/trial, best loss: 5.395186124400277]"
     ]
    },
    {
     "name": "stderr",
     "output_type": "stream",
     "text": [
      "2024/09/20 20:38:07 INFO mlflow.tracking._tracking_service.client: 🏃 View run righteous-moth-809 at: https://dagshub.com/JuanPab2009/nys-taxi-time-prediction.mlflow/#/experiments/0/runs/e43d7b722e2b436fb1d5f85746423eab.\n",
      "\n",
      "2024/09/20 20:38:07 INFO mlflow.tracking._tracking_service.client: 🧪 View experiment at: https://dagshub.com/JuanPab2009/nys-taxi-time-prediction.mlflow/#/experiments/0.\n",
      "\n"
     ]
    },
    {
     "name": "stdout",
     "output_type": "stream",
     "text": [
      " 50%|█████     | 10/20 [02:31<03:17, 19.70s/trial, best loss: 5.395186124400277]"
     ]
    },
    {
     "name": "stderr",
     "output_type": "stream",
     "text": [
      "2024/09/20 20:38:11 INFO mlflow.tracking._tracking_service.client: 🏃 View run lyrical-vole-426 at: https://dagshub.com/JuanPab2009/nys-taxi-time-prediction.mlflow/#/experiments/0/runs/8e39f61ce1234a8f9d4dbf6bb249565e.\n",
      "\n",
      "2024/09/20 20:38:11 INFO mlflow.tracking._tracking_service.client: 🧪 View experiment at: https://dagshub.com/JuanPab2009/nys-taxi-time-prediction.mlflow/#/experiments/0.\n",
      "\n"
     ]
    },
    {
     "name": "stdout",
     "output_type": "stream",
     "text": [
      " 55%|█████▌    | 11/20 [02:36<02:15, 15.08s/trial, best loss: 5.395186124400277]"
     ]
    },
    {
     "name": "stderr",
     "output_type": "stream",
     "text": [
      "2024/09/20 20:38:35 INFO mlflow.tracking._tracking_service.client: 🏃 View run intrigued-robin-583 at: https://dagshub.com/JuanPab2009/nys-taxi-time-prediction.mlflow/#/experiments/0/runs/af88edc5629f4204b144c430d5e3e562.\n",
      "\n",
      "2024/09/20 20:38:35 INFO mlflow.tracking._tracking_service.client: 🧪 View experiment at: https://dagshub.com/JuanPab2009/nys-taxi-time-prediction.mlflow/#/experiments/0.\n",
      "\n"
     ]
    },
    {
     "name": "stdout",
     "output_type": "stream",
     "text": [
      " 60%|██████    | 12/20 [02:59<02:21, 17.66s/trial, best loss: 5.395186124400277]"
     ]
    },
    {
     "name": "stderr",
     "output_type": "stream",
     "text": [
      "2024/09/20 20:38:43 INFO mlflow.tracking._tracking_service.client: 🏃 View run tasteful-shrimp-601 at: https://dagshub.com/JuanPab2009/nys-taxi-time-prediction.mlflow/#/experiments/0/runs/52bc498c9b4b46eab26e3c910c693e81.\n",
      "\n",
      "2024/09/20 20:38:43 INFO mlflow.tracking._tracking_service.client: 🧪 View experiment at: https://dagshub.com/JuanPab2009/nys-taxi-time-prediction.mlflow/#/experiments/0.\n",
      "\n"
     ]
    },
    {
     "name": "stdout",
     "output_type": "stream",
     "text": [
      " 65%|██████▌   | 13/20 [03:07<01:43, 14.73s/trial, best loss: 5.395186124400277]"
     ]
    },
    {
     "name": "stderr",
     "output_type": "stream",
     "text": [
      "2024/09/20 20:38:48 INFO mlflow.tracking._tracking_service.client: 🏃 View run honorable-snail-978 at: https://dagshub.com/JuanPab2009/nys-taxi-time-prediction.mlflow/#/experiments/0/runs/d8aca56769284a81830451fbc244d127.\n",
      "\n",
      "2024/09/20 20:38:48 INFO mlflow.tracking._tracking_service.client: 🧪 View experiment at: https://dagshub.com/JuanPab2009/nys-taxi-time-prediction.mlflow/#/experiments/0.\n",
      "\n"
     ]
    },
    {
     "name": "stdout",
     "output_type": "stream",
     "text": [
      " 70%|███████   | 14/20 [03:12<01:10, 11.67s/trial, best loss: 5.395186124400277]"
     ]
    },
    {
     "name": "stderr",
     "output_type": "stream",
     "text": [
      "2024/09/20 20:39:09 INFO mlflow.tracking._tracking_service.client: 🏃 View run nosy-shoat-746 at: https://dagshub.com/JuanPab2009/nys-taxi-time-prediction.mlflow/#/experiments/0/runs/ac4fc2bfa6bb44b7840b0475bd5f2a6b.\n",
      "\n",
      "2024/09/20 20:39:09 INFO mlflow.tracking._tracking_service.client: 🧪 View experiment at: https://dagshub.com/JuanPab2009/nys-taxi-time-prediction.mlflow/#/experiments/0.\n",
      "\n"
     ]
    },
    {
     "name": "stdout",
     "output_type": "stream",
     "text": [
      " 75%|███████▌  | 15/20 [03:33<01:13, 14.72s/trial, best loss: 5.395186124400277]"
     ]
    },
    {
     "name": "stderr",
     "output_type": "stream",
     "text": [
      "2024/09/20 20:39:47 INFO mlflow.tracking._tracking_service.client: 🏃 View run bald-bug-491 at: https://dagshub.com/JuanPab2009/nys-taxi-time-prediction.mlflow/#/experiments/0/runs/375f9a871be3443d8b3aea91bd4d10ac.\n",
      "\n",
      "2024/09/20 20:39:47 INFO mlflow.tracking._tracking_service.client: 🧪 View experiment at: https://dagshub.com/JuanPab2009/nys-taxi-time-prediction.mlflow/#/experiments/0.\n",
      "\n"
     ]
    },
    {
     "name": "stdout",
     "output_type": "stream",
     "text": [
      " 80%|████████  | 16/20 [04:11<01:26, 21.51s/trial, best loss: 5.395186124400277]"
     ]
    },
    {
     "name": "stderr",
     "output_type": "stream",
     "text": [
      "2024/09/20 20:39:57 INFO mlflow.tracking._tracking_service.client: 🏃 View run intrigued-midge-190 at: https://dagshub.com/JuanPab2009/nys-taxi-time-prediction.mlflow/#/experiments/0/runs/aefc199594ef4739a567acca6dde76ab.\n",
      "\n",
      "2024/09/20 20:39:57 INFO mlflow.tracking._tracking_service.client: 🧪 View experiment at: https://dagshub.com/JuanPab2009/nys-taxi-time-prediction.mlflow/#/experiments/0.\n",
      "\n"
     ]
    },
    {
     "name": "stdout",
     "output_type": "stream",
     "text": [
      " 85%|████████▌ | 17/20 [04:21<00:54, 18.15s/trial, best loss: 5.395186124400277]"
     ]
    },
    {
     "name": "stderr",
     "output_type": "stream",
     "text": [
      "2024/09/20 20:40:15 INFO mlflow.tracking._tracking_service.client: 🏃 View run resilient-hare-712 at: https://dagshub.com/JuanPab2009/nys-taxi-time-prediction.mlflow/#/experiments/0/runs/474ff73114774dfdacd1869d485b0f33.\n",
      "\n",
      "2024/09/20 20:40:15 INFO mlflow.tracking._tracking_service.client: 🧪 View experiment at: https://dagshub.com/JuanPab2009/nys-taxi-time-prediction.mlflow/#/experiments/0.\n",
      "\n"
     ]
    },
    {
     "name": "stdout",
     "output_type": "stream",
     "text": [
      " 90%|█████████ | 18/20 [04:39<00:36, 18.17s/trial, best loss: 5.393711741436198]"
     ]
    },
    {
     "name": "stderr",
     "output_type": "stream",
     "text": [
      "2024/09/20 20:40:18 INFO mlflow.tracking._tracking_service.client: 🏃 View run welcoming-worm-947 at: https://dagshub.com/JuanPab2009/nys-taxi-time-prediction.mlflow/#/experiments/0/runs/7a40a6baf963419a9d1f46d611fce061.\n",
      "\n",
      "2024/09/20 20:40:18 INFO mlflow.tracking._tracking_service.client: 🧪 View experiment at: https://dagshub.com/JuanPab2009/nys-taxi-time-prediction.mlflow/#/experiments/0.\n",
      "\n"
     ]
    },
    {
     "name": "stdout",
     "output_type": "stream",
     "text": [
      " 95%|█████████▌| 19/20 [04:42<00:13, 13.66s/trial, best loss: 5.393711741436198]"
     ]
    },
    {
     "name": "stderr",
     "output_type": "stream",
     "text": [
      "2024/09/20 20:40:22 INFO mlflow.tracking._tracking_service.client: 🏃 View run gentle-midge-156 at: https://dagshub.com/JuanPab2009/nys-taxi-time-prediction.mlflow/#/experiments/0/runs/bfc82800e59d430f9a1289fff43c5c80.\n",
      "\n",
      "2024/09/20 20:40:22 INFO mlflow.tracking._tracking_service.client: 🧪 View experiment at: https://dagshub.com/JuanPab2009/nys-taxi-time-prediction.mlflow/#/experiments/0.\n",
      "\n"
     ]
    },
    {
     "name": "stdout",
     "output_type": "stream",
     "text": [
      "100%|██████████| 20/20 [04:46<00:00, 14.30s/trial, best loss: 5.393711741436198]"
     ]
    },
    {
     "name": "stderr",
     "output_type": "stream",
     "text": [
      "2024/09/20 20:40:22 INFO mlflow.tracking._tracking_service.client: 🏃 View run Parent Experiment at: https://dagshub.com/JuanPab2009/nys-taxi-time-prediction.mlflow/#/experiments/0/runs/82798e22e337477f84da8e56899809c8.\n",
      "2024/09/20 20:40:22 INFO mlflow.tracking._tracking_service.client: 🧪 View experiment at: https://dagshub.com/JuanPab2009/nys-taxi-time-prediction.mlflow/#/experiments/0.\n"
     ]
    },
    {
     "name": "stdout",
     "output_type": "stream",
     "text": [
      "\n"
     ]
    },
    {
     "ename": "InvalidParameterError",
     "evalue": "The 'max_depth' parameter of GradientBoostingRegressor must be an int in the range [1, inf) or None. Got np.float64(8.0) instead.",
     "output_type": "error",
     "traceback": [
      "\u001B[0;31m---------------------------------------------------------------------------\u001B[0m",
      "\u001B[0;31mInvalidParameterError\u001B[0m                     Traceback (most recent call last)",
      "Cell \u001B[0;32mIn[32], line 35\u001B[0m\n\u001B[1;32m     32\u001B[0m     best_model_name \u001B[38;5;241m=\u001B[39m \u001B[38;5;124m\"\u001B[39m\u001B[38;5;124mRandomForest\u001B[39m\u001B[38;5;124m\"\u001B[39m\n\u001B[1;32m     34\u001B[0m \u001B[38;5;66;03m# Entrenar el mejor modelo con todos los datos\u001B[39;00m\n\u001B[0;32m---> 35\u001B[0m \u001B[43mbest_model\u001B[49m\u001B[38;5;241;43m.\u001B[39;49m\u001B[43mfit\u001B[49m\u001B[43m(\u001B[49m\u001B[43mX_train\u001B[49m\u001B[43m,\u001B[49m\u001B[43m \u001B[49m\u001B[43my_train\u001B[49m\u001B[43m)\u001B[49m\n\u001B[1;32m     37\u001B[0m \u001B[38;5;66;03m# Registrar el mejor modelo\u001B[39;00m\n\u001B[1;32m     38\u001B[0m mlflow\u001B[38;5;241m.\u001B[39msklearn\u001B[38;5;241m.\u001B[39mlog_model(best_model, \u001B[38;5;124m\"\u001B[39m\u001B[38;5;124mnyc-taxi-model\u001B[39m\u001B[38;5;124m\"\u001B[39m)\n",
      "File \u001B[0;32m~/Documents/nys-taxi-time-prediction/.venv/lib/python3.11/site-packages/sklearn/base.py:1466\u001B[0m, in \u001B[0;36m_fit_context.<locals>.decorator.<locals>.wrapper\u001B[0;34m(estimator, *args, **kwargs)\u001B[0m\n\u001B[1;32m   1461\u001B[0m partial_fit_and_fitted \u001B[38;5;241m=\u001B[39m (\n\u001B[1;32m   1462\u001B[0m     fit_method\u001B[38;5;241m.\u001B[39m\u001B[38;5;18m__name__\u001B[39m \u001B[38;5;241m==\u001B[39m \u001B[38;5;124m\"\u001B[39m\u001B[38;5;124mpartial_fit\u001B[39m\u001B[38;5;124m\"\u001B[39m \u001B[38;5;129;01mand\u001B[39;00m _is_fitted(estimator)\n\u001B[1;32m   1463\u001B[0m )\n\u001B[1;32m   1465\u001B[0m \u001B[38;5;28;01mif\u001B[39;00m \u001B[38;5;129;01mnot\u001B[39;00m global_skip_validation \u001B[38;5;129;01mand\u001B[39;00m \u001B[38;5;129;01mnot\u001B[39;00m partial_fit_and_fitted:\n\u001B[0;32m-> 1466\u001B[0m     \u001B[43mestimator\u001B[49m\u001B[38;5;241;43m.\u001B[39;49m\u001B[43m_validate_params\u001B[49m\u001B[43m(\u001B[49m\u001B[43m)\u001B[49m\n\u001B[1;32m   1468\u001B[0m \u001B[38;5;28;01mwith\u001B[39;00m config_context(\n\u001B[1;32m   1469\u001B[0m     skip_parameter_validation\u001B[38;5;241m=\u001B[39m(\n\u001B[1;32m   1470\u001B[0m         prefer_skip_nested_validation \u001B[38;5;129;01mor\u001B[39;00m global_skip_validation\n\u001B[1;32m   1471\u001B[0m     )\n\u001B[1;32m   1472\u001B[0m ):\n\u001B[1;32m   1473\u001B[0m     \u001B[38;5;28;01mreturn\u001B[39;00m fit_method(estimator, \u001B[38;5;241m*\u001B[39margs, \u001B[38;5;241m*\u001B[39m\u001B[38;5;241m*\u001B[39mkwargs)\n",
      "File \u001B[0;32m~/Documents/nys-taxi-time-prediction/.venv/lib/python3.11/site-packages/sklearn/base.py:666\u001B[0m, in \u001B[0;36mBaseEstimator._validate_params\u001B[0;34m(self)\u001B[0m\n\u001B[1;32m    658\u001B[0m \u001B[38;5;28;01mdef\u001B[39;00m \u001B[38;5;21m_validate_params\u001B[39m(\u001B[38;5;28mself\u001B[39m):\n\u001B[1;32m    659\u001B[0m \u001B[38;5;250m    \u001B[39m\u001B[38;5;124;03m\"\"\"Validate types and values of constructor parameters\u001B[39;00m\n\u001B[1;32m    660\u001B[0m \n\u001B[1;32m    661\u001B[0m \u001B[38;5;124;03m    The expected type and values must be defined in the `_parameter_constraints`\u001B[39;00m\n\u001B[0;32m   (...)\u001B[0m\n\u001B[1;32m    664\u001B[0m \u001B[38;5;124;03m    accepted constraints.\u001B[39;00m\n\u001B[1;32m    665\u001B[0m \u001B[38;5;124;03m    \"\"\"\u001B[39;00m\n\u001B[0;32m--> 666\u001B[0m     \u001B[43mvalidate_parameter_constraints\u001B[49m\u001B[43m(\u001B[49m\n\u001B[1;32m    667\u001B[0m \u001B[43m        \u001B[49m\u001B[38;5;28;43mself\u001B[39;49m\u001B[38;5;241;43m.\u001B[39;49m\u001B[43m_parameter_constraints\u001B[49m\u001B[43m,\u001B[49m\n\u001B[1;32m    668\u001B[0m \u001B[43m        \u001B[49m\u001B[38;5;28;43mself\u001B[39;49m\u001B[38;5;241;43m.\u001B[39;49m\u001B[43mget_params\u001B[49m\u001B[43m(\u001B[49m\u001B[43mdeep\u001B[49m\u001B[38;5;241;43m=\u001B[39;49m\u001B[38;5;28;43;01mFalse\u001B[39;49;00m\u001B[43m)\u001B[49m\u001B[43m,\u001B[49m\n\u001B[1;32m    669\u001B[0m \u001B[43m        \u001B[49m\u001B[43mcaller_name\u001B[49m\u001B[38;5;241;43m=\u001B[39;49m\u001B[38;5;28;43mself\u001B[39;49m\u001B[38;5;241;43m.\u001B[39;49m\u001B[38;5;18;43m__class__\u001B[39;49m\u001B[38;5;241;43m.\u001B[39;49m\u001B[38;5;18;43m__name__\u001B[39;49m\u001B[43m,\u001B[49m\n\u001B[1;32m    670\u001B[0m \u001B[43m    \u001B[49m\u001B[43m)\u001B[49m\n",
      "File \u001B[0;32m~/Documents/nys-taxi-time-prediction/.venv/lib/python3.11/site-packages/sklearn/utils/_param_validation.py:95\u001B[0m, in \u001B[0;36mvalidate_parameter_constraints\u001B[0;34m(parameter_constraints, params, caller_name)\u001B[0m\n\u001B[1;32m     89\u001B[0m \u001B[38;5;28;01melse\u001B[39;00m:\n\u001B[1;32m     90\u001B[0m     constraints_str \u001B[38;5;241m=\u001B[39m (\n\u001B[1;32m     91\u001B[0m         \u001B[38;5;124mf\u001B[39m\u001B[38;5;124m\"\u001B[39m\u001B[38;5;132;01m{\u001B[39;00m\u001B[38;5;124m'\u001B[39m\u001B[38;5;124m, \u001B[39m\u001B[38;5;124m'\u001B[39m\u001B[38;5;241m.\u001B[39mjoin([\u001B[38;5;28mstr\u001B[39m(c)\u001B[38;5;250m \u001B[39m\u001B[38;5;28;01mfor\u001B[39;00m\u001B[38;5;250m \u001B[39mc\u001B[38;5;250m \u001B[39m\u001B[38;5;129;01min\u001B[39;00m\u001B[38;5;250m \u001B[39mconstraints[:\u001B[38;5;241m-\u001B[39m\u001B[38;5;241m1\u001B[39m]])\u001B[38;5;132;01m}\u001B[39;00m\u001B[38;5;124m or\u001B[39m\u001B[38;5;124m\"\u001B[39m\n\u001B[1;32m     92\u001B[0m         \u001B[38;5;124mf\u001B[39m\u001B[38;5;124m\"\u001B[39m\u001B[38;5;124m \u001B[39m\u001B[38;5;132;01m{\u001B[39;00mconstraints[\u001B[38;5;241m-\u001B[39m\u001B[38;5;241m1\u001B[39m]\u001B[38;5;132;01m}\u001B[39;00m\u001B[38;5;124m\"\u001B[39m\n\u001B[1;32m     93\u001B[0m     )\n\u001B[0;32m---> 95\u001B[0m \u001B[38;5;28;01mraise\u001B[39;00m InvalidParameterError(\n\u001B[1;32m     96\u001B[0m     \u001B[38;5;124mf\u001B[39m\u001B[38;5;124m\"\u001B[39m\u001B[38;5;124mThe \u001B[39m\u001B[38;5;132;01m{\u001B[39;00mparam_name\u001B[38;5;132;01m!r}\u001B[39;00m\u001B[38;5;124m parameter of \u001B[39m\u001B[38;5;132;01m{\u001B[39;00mcaller_name\u001B[38;5;132;01m}\u001B[39;00m\u001B[38;5;124m must be\u001B[39m\u001B[38;5;124m\"\u001B[39m\n\u001B[1;32m     97\u001B[0m     \u001B[38;5;124mf\u001B[39m\u001B[38;5;124m\"\u001B[39m\u001B[38;5;124m \u001B[39m\u001B[38;5;132;01m{\u001B[39;00mconstraints_str\u001B[38;5;132;01m}\u001B[39;00m\u001B[38;5;124m. Got \u001B[39m\u001B[38;5;132;01m{\u001B[39;00mparam_val\u001B[38;5;132;01m!r}\u001B[39;00m\u001B[38;5;124m instead.\u001B[39m\u001B[38;5;124m\"\u001B[39m\n\u001B[1;32m     98\u001B[0m )\n",
      "\u001B[0;31mInvalidParameterError\u001B[0m: The 'max_depth' parameter of GradientBoostingRegressor must be an int in the range [1, inf) or None. Got np.float64(8.0) instead."
     ]
    }
   ],
   "execution_count": 32
  },
  {
   "metadata": {
    "ExecuteTime": {
     "end_time": "2024-09-21T02:47:47.997846Z",
     "start_time": "2024-09-21T02:47:47.633671Z"
    }
   },
   "cell_type": "code",
   "source": [
    "import mlflow\n",
    "from mlflow.exceptions import MlflowException\n",
    "from sklearn.metrics import root_mean_squared_error\n",
    "\n",
    "# Función para cargar un modelo de forma segura\n",
    "def safe_load_model(model_name, stage):\n",
    "    try:\n",
    "        return mlflow.sklearn.load_model(f\"models:/{model_name}@{stage}\")\n",
    "    except MlflowException as e:\n",
    "        print(f\"Error loading {stage} model: {e}\")\n",
    "        return None\n",
    "\n",
    "# Evaluar modelos en el conjunto de prueba\n",
    "champion_model = safe_load_model(\"nyc-taxi-model\", \"champion\")\n",
    "challenger_model = safe_load_model(\"nyc-taxi-model\", \"challenger\")\n",
    "\n",
    "if champion_model and challenger_model:\n",
    "    champion_rmse = root_mean_squared_error(y_test, champion_model.predict(X_test))\n",
    "    challenger_rmse = root_mean_squared_error(y_test, challenger_model.predict(X_test))\n",
    "\n",
    "    print(f\"Champion RMSE: {champion_rmse}\")\n",
    "    print(f\"Challenger RMSE: {challenger_rmse}\")\n",
    "\n",
    "    # Decidir si promover el challenger a champion\n",
    "    if challenger_rmse < champion_rmse * 0.95:\n",
    "        print(\"El challenger supera significativamente al champion y debería ser promovido.\")\n",
    "        client.set_registered_model_alias(\"nyc-taxi-model\", \"champion\", model_version.version)\n",
    "    else:\n",
    "        print(\"El challenger no supera significativamente al champion. Mantenemos el champion actual.\")\n",
    "else:\n",
    "    print(\"No se pudieron cargar uno o ambos modelos. Verifica que existan en el Model Registry.\")\n",
    "\n",
    "# Si no hay un modelo champion, podríamos querer promover el challenger automáticamente\n",
    "if not champion_model and challenger_model:\n",
    "    print(\"No existe un modelo champion. Promoviendo el challenger a champion.\")\n",
    "    client.set_registered_model_alias(\"nyc-taxi-model\", \"champion\", model_version.version)\n",
    "\n",
    "# Asegúrate de que el challenger siempre se registre\n",
    "if challenger_model:\n",
    "    client.set_registered_model_alias(\"nyc-taxi-model\", \"challenger\", model_version.version)\n",
    "else:\n",
    "    print(\"No se pudo registrar el modelo challenger. Verifica el proceso de entrenamiento y registro.\")"
   ],
   "id": "45bf6219fbc9c9bf",
   "outputs": [
    {
     "name": "stdout",
     "output_type": "stream",
     "text": [
      "Error loading champion model: INVALID_PARAMETER_VALUE: Response: {'error_code': 'INVALID_PARAMETER_VALUE'}\n",
      "Error loading challenger model: INVALID_PARAMETER_VALUE: Response: {'error_code': 'INVALID_PARAMETER_VALUE'}\n",
      "No se pudieron cargar uno o ambos modelos. Verifica que existan en el Model Registry.\n",
      "No se pudo registrar el modelo challenger. Verifica el proceso de entrenamiento y registro.\n"
     ]
    }
   ],
   "execution_count": 34
  },
  {
   "metadata": {},
   "cell_type": "code",
   "outputs": [],
   "execution_count": null,
   "source": [
    "# Decidir si promover el challenger a champion\n",
    "if challenger_rmse < champion_rmse * 0.95:\n",
    "    print(\"El challenger supera significativamente al champion y debería ser promovido.\")\n",
    "    client.set_registered_model_alias(\"nyc-taxi-model\", \"champion\", model_version.version)\n",
    "else:\n",
    "    print(\"El challenger no supera significativamente al champion. Mantenemos el champion actual.\")\n"
   ],
   "id": "75e91d06cc59af0d"
  },
  {
   "metadata": {},
   "cell_type": "code",
   "outputs": [],
   "execution_count": null,
   "source": [
    "# Subir datos a DagsHub\n",
    "s3 = get_repo_bucket_client(\"JuanPab2009/nys-taxi-time-prediction\")\n",
    "\n",
    "s3.upload_file(\n",
    "    Bucket=\"nys-taxi-time-prediction\",\n",
    "    Filename=\"../data/green_tripdata_2024-03.parquet\",\n",
    "    Key=\"test_data.parquet\",\n",
    ")"
   ],
   "id": "accc14a48d69e523"
  }
 ],
 "metadata": {
  "kernelspec": {
   "display_name": "Python 3",
   "language": "python",
   "name": "python3"
  },
  "language_info": {
   "codemirror_mode": {
    "name": "ipython",
    "version": 2
   },
   "file_extension": ".py",
   "mimetype": "text/x-python",
   "name": "python",
   "nbconvert_exporter": "python",
   "pygments_lexer": "ipython2",
   "version": "2.7.6"
  }
 },
 "nbformat": 4,
 "nbformat_minor": 5
}
