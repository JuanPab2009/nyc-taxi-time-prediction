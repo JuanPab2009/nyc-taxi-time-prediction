{
 "cells": [
  {
   "metadata": {
    "ExecuteTime": {
     "end_time": "2024-09-21T01:32:58.254410Z",
     "start_time": "2024-09-21T01:32:58.138313Z"
    }
   },
   "cell_type": "code",
   "source": [
    "import os\n",
    "import mlflow\n",
    "import mlflow.sklearn\n",
    "from sklearn.ensemble import GradientBoostingRegressor, RandomForestRegressor\n",
    "from sklearn.model_selection import train_test_split\n",
    "from sklearn.metrics import mean_squared_error, root_mean_squared_error\n",
    "import numpy as np\n",
    "import pandas as pd\n",
    "from sklearn.feature_extraction import DictVectorizer\n",
    "from hyperopt import fmin, tpe, hp, STATUS_OK, Trials\n",
    "from hyperopt.pyll import scope\n",
    "from dagshub import get_repo_bucket_client\n"
   ],
   "id": "9224edbfa806b342",
   "outputs": [],
   "execution_count": 13
  },
  {
   "metadata": {
    "ExecuteTime": {
     "end_time": "2024-09-21T01:34:06.056383Z",
     "start_time": "2024-09-21T01:34:05.248990Z"
    }
   },
   "cell_type": "code",
   "source": [
    "# Create the directory if it doesn't exist\n",
    "!mkdir -p ../data\n",
    "\n",
    "# Download files using curl\n",
    "!curl -o ../data/green_tripdata_2024-01.parquet https://d37ci6vzurychx.cloudfront.net/trip-data/green_tripdata_2024-01.parquet\n",
    "!curl -o ../data/green_tripdata_2024-02.parquet https://d37ci6vzurychx.cloudfront.net/trip-data/green_tripdata_2024-02.parquet"
   ],
   "id": "6520603ce1783044",
   "outputs": [
    {
     "name": "stdout",
     "output_type": "stream",
     "text": [
      "  % Total    % Received % Xferd  Average Speed   Time    Time     Time  Current\r\n",
      "                                 Dload  Upload   Total   Spent    Left  Speed\r\n",
      "100 1330k  100 1330k    0     0  5776k      0 --:--:-- --:--:-- --:--:-- 5784k\r\n",
      "  % Total    % Received % Xferd  Average Speed   Time    Time     Time  Current\r\n",
      "                                 Dload  Upload   Total   Spent    Left  Speed\r\n",
      "100 1253k  100 1253k    0     0  6264k      0 --:--:-- --:--:-- --:--:-- 6237k\r\n"
     ]
    }
   ],
   "execution_count": 15
  },
  {
   "metadata": {
    "ExecuteTime": {
     "end_time": "2024-09-21T01:34:21.671140Z",
     "start_time": "2024-09-21T01:34:21.668524Z"
    }
   },
   "cell_type": "code",
   "source": [
    "def read_dataframe(filename):\n",
    "    df = pd.read_parquet(filename)\n",
    "    df['duration'] = df.lpep_dropoff_datetime - df.lpep_pickup_datetime\n",
    "    df.duration = df.duration.apply(lambda td: td.total_seconds() / 60)\n",
    "    df = df[(df.duration >= 1) & (df.duration <= 60)]\n",
    "    categorical = ['PULocationID', 'DOLocationID']\n",
    "    df[categorical] = df[categorical].astype(str)\n",
    "    df['PU_DO'] = df['PULocationID'] + '_' + df['DOLocationID']\n",
    "    return df"
   ],
   "id": "2db33a2071652ef7",
   "outputs": [],
   "execution_count": 16
  },
  {
   "metadata": {
    "ExecuteTime": {
     "end_time": "2024-09-21T01:34:32.320340Z",
     "start_time": "2024-09-21T01:34:31.962990Z"
    }
   },
   "cell_type": "code",
   "source": [
    "df_train = read_dataframe('../data/green_tripdata_2024-01.parquet')\n",
    "df_val = read_dataframe('../data/green_tripdata_2024-02.parquet')\n",
    "df_test = read_dataframe('../data/green_tripdata_2024-03.parquet')\n",
    "\n",
    "categorical = ['PU_DO']\n",
    "numerical = ['trip_distance']\n",
    "target = 'duration'\n"
   ],
   "id": "964b266e059866dc",
   "outputs": [],
   "execution_count": 17
  },
  {
   "metadata": {
    "ExecuteTime": {
     "end_time": "2024-09-21T01:34:59.014524Z",
     "start_time": "2024-09-21T01:34:58.845900Z"
    }
   },
   "cell_type": "code",
   "source": [
    "dv = DictVectorizer()\n",
    "\n",
    "train_dicts = df_train[categorical + numerical].to_dict(orient='records')\n",
    "X_train = dv.fit_transform(train_dicts)\n",
    "y_train = df_train[target].values\n",
    "\n",
    "val_dicts = df_val[categorical + numerical].to_dict(orient='records')\n",
    "X_val = dv.transform(val_dicts)\n",
    "y_val = df_val[target].values\n",
    "\n",
    "test_dicts = df_test[categorical + numerical].to_dict(orient='records')\n",
    "X_test = dv.transform(test_dicts)\n",
    "y_test = df_test[target].values"
   ],
   "id": "7fc04624958ae8ed",
   "outputs": [],
   "execution_count": 18
  },
  {
   "metadata": {
    "ExecuteTime": {
     "end_time": "2024-09-21T01:38:30.548792Z",
     "start_time": "2024-09-21T01:38:29.832442Z"
    }
   },
   "cell_type": "code",
   "source": [
    "import os\n",
    "import mlflow\n",
    "import dagshub\n",
    "from mlflow.tracking import MlflowClient\n",
    "\n",
    "# Configurar DagsHub y MLflow\n",
    "dagshub.init(repo_owner=\"JuanPab2009\", repo_name=\"nys-taxi-time-prediction\", mlflow=True)\n",
    "\n",
    "# Obtener la URI de seguimiento de MLflow\n",
    "mlflow_tracking_uri = mlflow.get_tracking_uri()\n",
    "print(f\"MLflow Tracking URI: {mlflow_tracking_uri}\")\n",
    "\n",
    "# Configurar MLflow para usar la URI de DagsHub\n",
    "mlflow.set_tracking_uri(mlflow_tracking_uri)\n",
    "\n",
    "# Nombre del experimento\n",
    "experiment_name = \"nys-taxi-experiment\"\n",
    "\n",
    "# Crear o obtener el experimento\n",
    "client = MlflowClient()\n",
    "try:\n",
    "    experiment = client.create_experiment(experiment_name)\n",
    "except mlflow.exceptions.MlflowException:\n",
    "    experiment = client.get_experiment_by_name(experiment_name)\n",
    "\n",
    "if experiment:\n",
    "    print(f\"Experiment ID: {experiment.experiment_id}\")\n",
    "    print(f\"Artifact Location: {experiment.artifact_location}\")\n",
    "    \n",
    "    # Configurar el experimento activo\n",
    "    mlflow.set_experiment(experiment_name)\n",
    "else:\n",
    "    print(\"Failed to create or retrieve the experiment.\")"
   ],
   "id": "35ba661c8c80222c",
   "outputs": [
    {
     "data": {
      "text/plain": [
       "Initialized MLflow to track repo \u001B[32m\"JuanPab2009/nys-taxi-time-prediction\"\u001B[0m\n"
      ],
      "text/html": [
       "<pre style=\"white-space:pre;overflow-x:auto;line-height:normal;font-family:Menlo,'DejaVu Sans Mono',consolas,'Courier New',monospace\">Initialized MLflow to track repo <span style=\"color: #008000; text-decoration-color: #008000\">\"JuanPab2009/nys-taxi-time-prediction\"</span>\n",
       "</pre>\n"
      ]
     },
     "metadata": {},
     "output_type": "display_data"
    },
    {
     "data": {
      "text/plain": [
       "Repository JuanPab2009/nys-taxi-time-prediction initialized!\n"
      ],
      "text/html": [
       "<pre style=\"white-space:pre;overflow-x:auto;line-height:normal;font-family:Menlo,'DejaVu Sans Mono',consolas,'Courier New',monospace\">Repository JuanPab2009/nys-taxi-time-prediction initialized!\n",
       "</pre>\n"
      ]
     },
     "metadata": {},
     "output_type": "display_data"
    },
    {
     "name": "stdout",
     "output_type": "stream",
     "text": [
      "MLflow Tracking URI: https://dagshub.com/JuanPab2009/nys-taxi-time-prediction.mlflow\n",
      "Experiment ID: 0\n",
      "Artifact Location: mlflow-artifacts:/263051c210234e5a9f3b7186f93060c2\n"
     ]
    }
   ],
   "execution_count": 22
  },
  {
   "metadata": {
    "ExecuteTime": {
     "end_time": "2024-09-21T01:39:01.980198Z",
     "start_time": "2024-09-21T01:39:01.977632Z"
    }
   },
   "cell_type": "code",
   "source": [
    "# Función para ejecutar experimentos\n",
    "def objective(params, model_class, X_train, y_train, X_val, y_val):\n",
    "    with mlflow.start_run(nested=True):\n",
    "        model = model_class(**params)\n",
    "        model.fit(X_train, y_train)\n",
    "        y_pred = model.predict(X_val)\n",
    "        rmse = root_mean_squared_error(y_val, y_pred)\n",
    "        mlflow.log_params(params)\n",
    "        mlflow.log_metric(\"rmse\", rmse)\n",
    "        return {'loss': rmse, 'status': STATUS_OK}"
   ],
   "id": "4394755693690a80",
   "outputs": [],
   "execution_count": 23
  },
  {
   "metadata": {
    "ExecuteTime": {
     "end_time": "2024-09-21T01:39:08.729963Z",
     "start_time": "2024-09-21T01:39:08.726926Z"
    }
   },
   "cell_type": "code",
   "source": [
    "# Espacios de búsqueda para hiperparámetros\n",
    "gb_space = {\n",
    "    'n_estimators': scope.int(hp.quniform('n_estimators', 100, 500, 50)),\n",
    "    'learning_rate': hp.loguniform('learning_rate', np.log(0.01), np.log(0.2)),\n",
    "    'max_depth': scope.int(hp.quniform('max_depth', 3, 10, 1))\n",
    "}\n",
    "\n",
    "rf_space = {\n",
    "    'n_estimators': scope.int(hp.quniform('n_estimators', 100, 500, 50)),\n",
    "    'max_depth': scope.int(hp.quniform('max_depth', 3, 20, 1)),\n",
    "    'min_samples_split': scope.int(hp.quniform('min_samples_split', 2, 10, 1))\n",
    "}\n"
   ],
   "id": "b3816559d454a7a6",
   "outputs": [],
   "execution_count": 24
  },
  {
   "metadata": {
    "jupyter": {
     "is_executing": true
    }
   },
   "cell_type": "code",
   "source": [
    "# Experimentos\n",
    "with mlflow.start_run(run_name=\"Parent Experiment\"):\n",
    "    # Gradient Boost\n",
    "    gb_trials = Trials()\n",
    "    best_gb = fmin(\n",
    "        fn=lambda params: objective(params, GradientBoostingRegressor, X_train, y_train, X_val, y_val),\n",
    "        space=gb_space,\n",
    "        algo=tpe.suggest,\n",
    "        max_evals=20,\n",
    "        trials=gb_trials\n",
    "    )\n",
    "    \n",
    "    # Random Forest\n",
    "    rf_trials = Trials()\n",
    "    best_rf = fmin(\n",
    "        fn=lambda params: objective(params, RandomForestRegressor, X_train, y_train, X_val, y_val),\n",
    "        space=rf_space,\n",
    "        algo=tpe.suggest,\n",
    "        max_evals=20,\n",
    "        trials=rf_trials\n",
    "    )\n",
    "\n",
    "    # Seleccionar el mejor modelo\n",
    "    gb_rmse = min(trial['result']['loss'] for trial in gb_trials.trials)\n",
    "    rf_rmse = min(trial['result']['loss'] for trial in rf_trials.trials)\n",
    "\n",
    "    if gb_rmse < rf_rmse:\n",
    "        best_model = GradientBoostingRegressor(**best_gb)\n",
    "        best_model_name = \"GradientBoost\"\n",
    "    else:\n",
    "        best_model = RandomForestRegressor(**best_rf)\n",
    "        best_model_name = \"RandomForest\"\n",
    "\n",
    "    # Entrenar el mejor modelo con todos los datos\n",
    "    best_model.fit(X_train, y_train)\n",
    "\n",
    "    # Registrar el mejor modelo\n",
    "    mlflow.sklearn.log_model(best_model, \"nyc-taxi-model\")\n",
    "    \n",
    "    # Asignar el alias 'challenger'\n",
    "    client = mlflow.tracking.MlflowClient()\n",
    "    model_version = client.create_model_version(\"nyc-taxi-model\", f\"runs:/{mlflow.active_run().info.run_id}/nyc-taxi-model\")\n",
    "    client.set_registered_model_alias(\"nyc-taxi-model\", \"challenger\", model_version.version)"
   ],
   "id": "cf2ac2aa40ce5d8d",
   "outputs": [],
   "execution_count": null
  },
  {
   "metadata": {},
   "cell_type": "code",
   "source": [
    "# Evaluar modelos en el conjunto de prueba\n",
    "champion_model = mlflow.sklearn.load_model(\"models:/nyc-taxi-model@champion\")\n",
    "challenger_model = mlflow.sklearn.load_model(\"models:/nyc-taxi-model@challenger\")\n",
    "\n",
    "champion_rmse = root_mean_squared_error(y_test, champion_model.predict(X_test))\n",
    "challenger_rmse = root_mean_squared_error(y_test, challenger_model.predict(X_test))\n",
    "\n",
    "print(f\"Champion RMSE: {champion_rmse}\")\n",
    "print(f\"Challenger RMSE: {challenger_rmse}\")"
   ],
   "id": "45bf6219fbc9c9bf",
   "outputs": [],
   "execution_count": null
  },
  {
   "metadata": {},
   "cell_type": "code",
   "outputs": [],
   "execution_count": null,
   "source": [
    "# Decidir si promover el challenger a champion\n",
    "if challenger_rmse < champion_rmse * 0.95:\n",
    "    print(\"El challenger supera significativamente al champion y debería ser promovido.\")\n",
    "    client.set_registered_model_alias(\"nyc-taxi-model\", \"champion\", model_version.version)\n",
    "else:\n",
    "    print(\"El challenger no supera significativamente al champion. Mantenemos el champion actual.\")\n"
   ],
   "id": "75e91d06cc59af0d"
  },
  {
   "metadata": {},
   "cell_type": "code",
   "outputs": [],
   "execution_count": null,
   "source": [
    "# Subir datos a DagsHub\n",
    "s3 = get_repo_bucket_client(\"JuanPab2009/nys-taxi-time-prediction\")\n",
    "\n",
    "s3.upload_file(\n",
    "    Bucket=\"nys-taxi-time-prediction\",\n",
    "    Filename=\"../data/green_tripdata_2024-03.parquet\",\n",
    "    Key=\"test_data.parquet\",\n",
    ")"
   ],
   "id": "accc14a48d69e523"
  }
 ],
 "metadata": {
  "kernelspec": {
   "display_name": "Python 3",
   "language": "python",
   "name": "python3"
  },
  "language_info": {
   "codemirror_mode": {
    "name": "ipython",
    "version": 2
   },
   "file_extension": ".py",
   "mimetype": "text/x-python",
   "name": "python",
   "nbconvert_exporter": "python",
   "pygments_lexer": "ipython2",
   "version": "2.7.6"
  }
 },
 "nbformat": 4,
 "nbformat_minor": 5
}
